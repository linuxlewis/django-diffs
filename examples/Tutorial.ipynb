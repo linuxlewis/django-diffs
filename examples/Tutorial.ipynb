{
 "cells": [
  {
   "cell_type": "markdown",
   "metadata": {},
   "source": [
    "# django-diffs tutorial\n",
    "\n",
    "This is a walkthrough tutorial demonstrating the features of django diffs"
   ]
  },
  {
   "cell_type": "code",
   "execution_count": 1,
   "metadata": {
    "collapsed": false
   },
   "outputs": [],
   "source": [
    "# Setup django\n",
    "import os\n",
    "os.environ['DJANGO_SETTINGS_MODULE'] =  'example.settings'\n",
    "import django\n",
    "django.setup()"
   ]
  },
  {
   "cell_type": "markdown",
   "metadata": {},
   "source": [
    "## Configuring django-diffs"
   ]
  },
  {
   "cell_type": "code",
   "execution_count": 2,
   "metadata": {
    "collapsed": false
   },
   "outputs": [
    {
     "data": {
      "text/plain": [
       "{'test_mode': True, 'use_transactions': False}"
      ]
     },
     "execution_count": 2,
     "metadata": {},
     "output_type": "execute_result"
    }
   ],
   "source": [
    "from django.conf import settings\n",
    "settings.DIFFS_SETTINGS"
   ]
  },
  {
   "cell_type": "code",
   "execution_count": 3,
   "metadata": {
    "collapsed": false
   },
   "outputs": [
    {
     "data": {
      "text/plain": [
       "{'max_element_age': 3600,\n",
       " 'redis': {'db': 0, 'host': 'localhost', 'port': 6379},\n",
       " 'test_mode': True,\n",
       " 'use_transactions': False}"
      ]
     },
     "execution_count": 3,
     "metadata": {},
     "output_type": "execute_result"
    }
   ],
   "source": [
    "from diffs.settings import diffs_settings\n",
    "diffs_settings"
   ]
  },
  {
   "cell_type": "markdown",
   "metadata": {},
   "source": [
    "## Using django-diffs\n",
    "\n",
    "### 1. Register Model class"
   ]
  },
  {
   "cell_type": "code",
   "execution_count": 4,
   "metadata": {
    "collapsed": false
   },
   "outputs": [],
   "source": [
    "# create model and register via decorator\n",
    "import diffs\n",
    "from django.db import models\n",
    "\n",
    "@diffs.register\n",
    "class Report(models.Model):\n",
    "    \n",
    "    name = models.CharField(max_length=255)\n",
    "    min_value = models.IntegerField()\n",
    "    max_value = models.IntegerField()\n",
    "    \n",
    "    class Meta:\n",
    "        app_label = 'example'"
   ]
  },
  {
   "cell_type": "code",
   "execution_count": 5,
   "metadata": {
    "collapsed": false
   },
   "outputs": [
    {
     "name": "stdout",
     "output_type": "stream",
     "text": [
      "Migrations for 'example':\n",
      "  example/migrations/0001_initial.py:\n",
      "    - Create model Report\n",
      "Operations to perform:\n",
      "  Apply all migrations: auth, contenttypes, example, sessions\n",
      "Running migrations:\n",
      "  Applying contenttypes.0001_initial... OK\n",
      "  Applying contenttypes.0002_remove_content_type_name... OK\n",
      "  Applying auth.0001_initial... OK\n",
      "  Applying auth.0002_alter_permission_name_max_length... OK\n",
      "  Applying auth.0003_alter_user_email_max_length... OK\n",
      "  Applying auth.0004_alter_user_username_opts... OK\n",
      "  Applying auth.0005_alter_user_last_login_null... OK\n",
      "  Applying auth.0006_require_contenttypes_0002... OK\n",
      "  Applying auth.0007_alter_validators_add_error_messages... OK\n",
      "  Applying auth.0008_alter_user_username_max_length... OK\n",
      "  Applying example.0001_initial... OK\n",
      "  Applying sessions.0001_initial... OK\n"
     ]
    }
   ],
   "source": [
    "# run migrate to create the tables\n",
    "from django.core.management import call_command\n",
    "call_command('makemigrations')\n",
    "call_command('migrate')\n"
   ]
  },
  {
   "cell_type": "markdown",
   "metadata": {},
   "source": [
    "### 2. Make a change via a model instance"
   ]
  },
  {
   "cell_type": "code",
   "execution_count": 6,
   "metadata": {
    "collapsed": false
   },
   "outputs": [],
   "source": [
    "# simple diff\n",
    "report = Report(name='Python Report', min_value=10, max_value=100)\n",
    "report.save()"
   ]
  },
  {
   "cell_type": "markdown",
   "metadata": {},
   "source": [
    "### 3. ???\n",
    "### 4. Profit"
   ]
  },
  {
   "cell_type": "code",
   "execution_count": 7,
   "metadata": {
    "collapsed": false
   },
   "outputs": [
    {
     "name": "stdout",
     "output_type": "stream",
     "text": [
      "[<diffs.models.Diff object at 0x10b6c8f90>]\n"
     ]
    }
   ],
   "source": [
    "print report.diffs"
   ]
  },
  {
   "cell_type": "code",
   "execution_count": 8,
   "metadata": {
    "collapsed": false
   },
   "outputs": [
    {
     "name": "stdout",
     "output_type": "stream",
     "text": [
      "1.47872263919e+12\n",
      "[{u'pk': 1, u'model': u'example.report', u'fields': {u'max_value': 100, u'min_value': 10, u'name': u'Python Report'}}]\n",
      "True\n"
     ]
    },
    {
     "data": {
      "text/plain": [
       "\"<Diff [{u'pk': 1, u'model': u'example.report', u'fields': {u'max_value': 100, u'min_value': 10, u'name': u'Python Report'}}]>\""
      ]
     },
     "execution_count": 8,
     "metadata": {},
     "output_type": "execute_result"
    }
   ],
   "source": [
    "diff = report.diffs[0]\n",
    "print diff.timestamp\n",
    "print diff.data\n",
    "print diff.created"
   ]
  },
  {
   "cell_type": "markdown",
   "metadata": {},
   "source": [
    "## Custom Serialization"
   ]
  },
  {
   "cell_type": "code",
   "execution_count": 11,
   "metadata": {
    "collapsed": false
   },
   "outputs": [
    {
     "name": "stderr",
     "output_type": "stream",
     "text": [
      "/usr/local/lib/python2.7/site-packages/django/db/models/base.py:310: RuntimeWarning: Model 'example.report' was already registered. Reloading models is not advised as it can lead to inconsistencies, most notably with related models.\n",
      "  new_class._meta.apps.register_model(new_class._meta.app_label, new_class)\n"
     ]
    }
   ],
   "source": [
    "@diffs.register\n",
    "class Report(models.Model):\n",
    "    \n",
    "    name = models.CharField(max_length=255)\n",
    "    min_value = models.IntegerField()\n",
    "    max_value = models.IntegerField()\n",
    "    \n",
    "    class Meta:\n",
    "        app_label = 'example'\n",
    "        \n",
    "    def serialize_diff(self, dirty_fields):\n",
    "        if 'name' in dirty_fields:\n",
    "            return {'name': self.name}\n",
    "        else:\n",
    "            return None"
   ]
  },
  {
   "cell_type": "code",
   "execution_count": 12,
   "metadata": {
    "collapsed": false
   },
   "outputs": [],
   "source": [
    "report = Report(name='bay area report', min_value=5, max_value=7)\n",
    "report.save()"
   ]
  },
  {
   "cell_type": "code",
   "execution_count": 13,
   "metadata": {
    "collapsed": true
   },
   "outputs": [],
   "source": [
    "report.min_value = 4\n",
    "report.save()"
   ]
  },
  {
   "cell_type": "code",
   "execution_count": 14,
   "metadata": {
    "collapsed": false
   },
   "outputs": [
    {
     "data": {
      "text/plain": [
       "[<diffs.models.Diff at 0x103d3a910>]"
      ]
     },
     "execution_count": 14,
     "metadata": {},
     "output_type": "execute_result"
    }
   ],
   "source": [
    "report.diffs"
   ]
  },
  {
   "cell_type": "code",
   "execution_count": 15,
   "metadata": {
    "collapsed": false
   },
   "outputs": [
    {
     "data": {
      "text/plain": [
       "{u'name': u'bay area report'}"
      ]
     },
     "execution_count": 15,
     "metadata": {},
     "output_type": "execute_result"
    }
   ],
   "source": [
    "report.diffs[0].data"
   ]
  },
  {
   "cell_type": "code",
   "execution_count": 16,
   "metadata": {
    "collapsed": false
   },
   "outputs": [],
   "source": [
    "# related models\n",
    "@diffs.register\n",
    "class ReportItem(models.Model):\n",
    "    \n",
    "    report = models.ForeignKey('Report')\n",
    "    important_value = models.IntegerField()\n",
    "    status = models.CharField(max_length=255)\n",
    "    \n",
    "    class Meta:\n",
    "        app_label = 'example'\n",
    "    \n",
    "    def get_diff_parent(self):\n",
    "        return self.report"
   ]
  },
  {
   "cell_type": "code",
   "execution_count": 17,
   "metadata": {
    "collapsed": false
   },
   "outputs": [
    {
     "name": "stdout",
     "output_type": "stream",
     "text": [
      "Migrations for 'example':\n",
      "  example/migrations/0002_reportitem.py:\n",
      "    - Create model ReportItem\n",
      "Operations to perform:\n",
      "  Apply all migrations: auth, contenttypes, example, sessions\n",
      "Running migrations:\n",
      "  Applying example.0002_reportitem... OK\n"
     ]
    }
   ],
   "source": [
    "call_command('makemigrations')\n",
    "call_command('migrate')"
   ]
  },
  {
   "cell_type": "code",
   "execution_count": 18,
   "metadata": {
    "collapsed": false
   },
   "outputs": [],
   "source": [
    "report_item = ReportItem(status='OK', important_value=9001, report=report)\n",
    "report_item.save()"
   ]
  },
  {
   "cell_type": "code",
   "execution_count": 19,
   "metadata": {
    "collapsed": false
   },
   "outputs": [
    {
     "data": {
      "text/plain": [
       "[<diffs.models.Diff at 0x103d6f850>, <diffs.models.Diff at 0x103d6fd10>]"
      ]
     },
     "execution_count": 19,
     "metadata": {},
     "output_type": "execute_result"
    }
   ],
   "source": [
    "report.diffs"
   ]
  },
  {
   "cell_type": "code",
   "execution_count": 20,
   "metadata": {
    "collapsed": false
   },
   "outputs": [
    {
     "name": "stdout",
     "output_type": "stream",
     "text": [
      "{u'name': u'bay area report'}\n",
      "[{u'pk': 1, u'model': u'example.reportitem', u'fields': {u'status': u'OK', u'important_value': 9001}}]\n"
     ]
    }
   ],
   "source": [
    "for diff in report.diffs:\n",
    "    print diff.data"
   ]
  },
  {
   "cell_type": "markdown",
   "metadata": {},
   "source": [
    "## Advanced Querying\n",
    "\n",
    "django-diffs stores the diffs in a redis sorted set\n",
    "\n",
    "You can get a SortedSet instance from the class manager."
   ]
  },
  {
   "cell_type": "code",
   "execution_count": 21,
   "metadata": {
    "collapsed": false
   },
   "outputs": [
    {
     "name": "stdout",
     "output_type": "stream",
     "text": [
      "1.47872180904e+12\n",
      "1.47872190272e+12\n"
     ]
    }
   ],
   "source": [
    "# query interface\n",
    "sorted_set = Report.diffs.get_sortedset(report.id)\n",
    "print sorted_set.min_score\n",
    "print sorted_set.max_score"
   ]
  },
  {
   "cell_type": "code",
   "execution_count": 23,
   "metadata": {
    "collapsed": false
   },
   "outputs": [
    {
     "data": {
      "text/plain": [
       "[<diffs.models.Diff at 0x103d6fad0>, <diffs.models.Diff at 0x103d6ff10>]"
      ]
     },
     "execution_count": 23,
     "metadata": {},
     "output_type": "execute_result"
    }
   ],
   "source": [
    "sorted_set.zrevrangebyscore('+inf', '-inf', withscores=True)"
   ]
  },
  {
   "cell_type": "code",
   "execution_count": null,
   "metadata": {
    "collapsed": true
   },
   "outputs": [],
   "source": []
  }
 ],
 "metadata": {
  "kernelspec": {
   "display_name": "Python 2",
   "language": "python",
   "name": "python2"
  },
  "language_info": {
   "codemirror_mode": {
    "name": "ipython",
    "version": 2
   },
   "file_extension": ".py",
   "mimetype": "text/x-python",
   "name": "python",
   "nbconvert_exporter": "python",
   "pygments_lexer": "ipython2",
   "version": "2.7.12"
  }
 },
 "nbformat": 4,
 "nbformat_minor": 1
}
